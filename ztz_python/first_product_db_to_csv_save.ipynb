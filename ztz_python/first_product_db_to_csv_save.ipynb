{
 "cells": [
  {
   "cell_type": "code",
   "execution_count": 1,
   "id": "3f27bcbd",
   "metadata": {},
   "outputs": [
    {
     "name": "stdout",
     "output_type": "stream",
     "text": [
      "Requirement already satisfied: PyMySQL in c:\\users\\user\\anaconda3\\lib\\site-packages (1.0.2)\n",
      "Note: you may need to restart the kernel to use updated packages.\n"
     ]
    }
   ],
   "source": [
    "pip install PyMySQL\n",
    "# 처음 한번만 실행"
   ]
  },
  {
   "cell_type": "code",
   "execution_count": 4,
   "id": "62b97379",
   "metadata": {},
   "outputs": [],
   "source": [
    "import pymysql\n",
    "import pandas as pd"
   ]
  },
  {
   "cell_type": "code",
   "execution_count": 5,
   "id": "6f361557",
   "metadata": {},
   "outputs": [
    {
     "name": "stdout",
     "output_type": "stream",
     "text": [
      "((1, '㈜가야 양조장', 1, 4, 0, 0, '블루문 프리미엄 리큐르 세트(13도 375ml)', 39000, '모임, 파티의 분위기를 한껏 살려 줄 블루문 프리미엄 리큐르를 소개합니다. 에메랄드빛 바다를 닮은 선명한 푸른빛으로 눈길을 먼저 사로잡는데요. 우리 쌀로 만든 증류주를 베이스로 만든 리큐어 제품이라 부드러우면서도 깔끔한 풍미를 자랑한답니다.\\n', '[\"f202301220142001_blueMoon.jpg\",\"f202301220142001_blueMoon2.png\",\"f202301220142001_blueMoon3.png\"]', '선명한 푸른 빛에 담긴 산뜻함', '[\"달달\",\"과일향\"]', 't202301220142001_blueMoon.jpg', 0), (2, '배상면주가', 2, 0, 0, 0, '느린마을막걸리 방울톡(6도 750ml)', 3230, '느린마을막걸리 방울톡은 기존의 느린마을막걸리보다 한층 더 가볍고 산뜻하게 완성한 생막걸리입니다. 한 모금 머금으면 청량한 기포와 함께 다채로운 꽃 향기가 입안 가득 느껴져요. 쌀과 누룩, 물로만 빚어내어 느린마을막걸리 특유의 깨끗한 느낌도 그대로랍니다.\\n', '[\"f202301220143132_slowTownMack.jpg\",\"f202301220143132_slowTownMack2.png\"]', '요구르트처럼 달콤하고 상큼한', '[\"달달\",\"탄산\"]', 't202301220143132_slowTownMack.jpg', 0), (3, '불휘농장', 4, 3, 0, 0, '시나브로 피에스 로제스파클링와인(5도 750ml)', 39000, '충북 영동은 포도를 달콤하게 영글게 하는 산으로 쉼 없이 둘러싸인 포도 주산지입니다. 이곳에는 농가형 와이너리, 시나브로를 운영하는 불휘농장이 자리하고 있어요. 직접 포도밭을 일구고, 양조하며 한국 와인을 알리는데 누구보다 앞장서고 있죠. \\n', '[\"f202301220144033_psWineSparkling.jpg\",\"f202301220144033_psWineSparkling2.png\"]', '적포도의 달콤함과 청량함의 산뜻한 조우', '[\"달달\",\"과일향\",\"탄산\"]', 't202301220144033_psWineSparkling.jpg', 0), (4, '불휘농장', 4, 3, 0, 0, '시나브로 피에스 샤인스파클링와인(5도 750ml)', 45000, '샤인머스켓은 탐스럽게 차오른 포도알에서 새어나오는 청량한 단맛이 침샘을 자극하는 과일이죠. 시나브로 와이너리는 포도의 고장, 충북 영동에서 수확한 샤인머스켓으로 와인을 빚어냅니다.\\n', '[\"f202301220147134_psShineSparkling.jpg\",\"f202301220147134_psShineSparkling2.png\"]', '조밀한 탄산에서 느껴지는 달콤한 청량감', '[\"달달\",\"과일향\",\"탄산\"]', 't202301220147134_psShineSparkling.jpg', 0))\n",
      "파이썬을 활용한 db 테이블 조회 성공!\n",
      "DB 데이터 cvs파일 저장 성공!\n"
     ]
    },
    {
     "name": "stderr",
     "output_type": "stream",
     "text": [
      "C:\\Users\\user\\anaconda3\\lib\\site-packages\\pandas\\io\\sql.py:762: UserWarning: pandas only support SQLAlchemy connectable(engine/connection) ordatabase string URI or sqlite3 DBAPI2 connectionother DBAPI2 objects are not tested, please consider using SQLAlchemy\n",
      "  warnings.warn(\n"
     ]
    }
   ],
   "source": [
    "# DB에 접속 \n",
    "db = pymysql.connect(\n",
    "    host = 'localhost',\n",
    "    port = 3306,\n",
    "    user = 'eddi',\n",
    "    passwd = 'eddi@123',\n",
    "    db = 'ztz_db'\n",
    ")\n",
    "\n",
    "cursor = db.cursor()\n",
    "\n",
    "sql1 = \"\"\"\n",
    "    select * from product;\n",
    "\"\"\"\n",
    "\n",
    "cursor.execute(sql1)\n",
    "\n",
    "result = cursor.fetchall()\n",
    "\n",
    "# DB데이터 조회하기\n",
    "for row in range(1):\n",
    "    print(result)\n",
    "print('파이썬을 활용한 db 테이블 조회 성공!')\n",
    "\n",
    "# DB데이터 cvs파일로 저장\n",
    "productData = pd.read_sql_query(sql1, db)\n",
    "\n",
    "productData.to_csv('product_data1.csv', index=False)\n",
    "\n",
    "print('DB 데이터 cvs파일 저장 성공!')\n",
    "    \n",
    "db.close()"
   ]
  },
  {
   "cell_type": "code",
   "execution_count": null,
   "id": "cf474bb1",
   "metadata": {},
   "outputs": [],
   "source": []
  }
 ],
 "metadata": {
  "kernelspec": {
   "display_name": "Python 3 (ipykernel)",
   "language": "python",
   "name": "python3"
  },
  "language_info": {
   "codemirror_mode": {
    "name": "ipython",
    "version": 3
   },
   "file_extension": ".py",
   "mimetype": "text/x-python",
   "name": "python",
   "nbconvert_exporter": "python",
   "pygments_lexer": "ipython3",
   "version": "3.9.13"
  }
 },
 "nbformat": 4,
 "nbformat_minor": 5
}
