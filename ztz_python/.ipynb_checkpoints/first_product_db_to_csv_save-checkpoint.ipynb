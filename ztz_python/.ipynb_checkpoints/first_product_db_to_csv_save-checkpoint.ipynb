{
 "cells": [
  {
   "cell_type": "code",
   "execution_count": 4,
   "id": "ba338d7d",
   "metadata": {},
   "outputs": [
    {
     "name": "stdout",
     "output_type": "stream",
     "text": [
      "Requirement already satisfied: PyMySQL in c:\\users\\user\\anaconda3\\lib\\site-packages (1.0.2)\n",
      "Note: you may need to restart the kernel to use updated packages.\n"
     ]
    }
   ],
   "source": [
    "pip install PyMySQL"
   ]
  },
  {
   "cell_type": "code",
   "execution_count": 1,
   "id": "063041a8",
   "metadata": {},
   "outputs": [],
   "source": [
    "import pymysql\n",
    "import pandas as pd"
   ]
  },
  {
   "cell_type": "code",
   "execution_count": 5,
   "id": "fe517b9e",
   "metadata": {},
   "outputs": [
    {
     "ename": "IndentationError",
     "evalue": "unexpected indent (766281494.py, line 21)",
     "output_type": "error",
     "traceback": [
      "\u001b[1;36m  File \u001b[1;32m\"C:\\Users\\user\\AppData\\Local\\Temp\\ipykernel_8880\\766281494.py\"\u001b[1;36m, line \u001b[1;32m21\u001b[0m\n\u001b[1;33m    print(result)\u001b[0m\n\u001b[1;37m    ^\u001b[0m\n\u001b[1;31mIndentationError\u001b[0m\u001b[1;31m:\u001b[0m unexpected indent\n"
     ]
    }
   ],
   "source": [
    "# DB에 접속 \n",
    "db = pymysql.connect(\n",
    "    host = 'localhost',\n",
    "    port = 3306,\n",
    "    user = 'eddi',\n",
    "    passwd = 'eddi@123',\n",
    "    db = 'ztz_db'\n",
    ")\n",
    "\n",
    "cursor = db.cursor()\n",
    "\n",
    "sql1 = \"\"\"\n",
    "    select * from product;\n",
    "\"\"\"\n",
    "\n",
    "cursor.execute(sql1)\n",
    "\n",
    "result = cursor.fetchall()\n",
    "\n",
    "# DB데이터 조회하기\n",
    "for row in 1:\n",
    "    print(result)\n",
    "print('파이썬을 활용한 db 테이블 조회 성공!')\n",
    "\n",
    "# # DB데이터 cvs파일로 저장\n",
    "# productData = pd.read_sql_query(sql1, db)\n",
    "\n",
    "# productData.to_csv('product_data1.csv', index=False)\n",
    "\n",
    "# print('DB 데이터 cvs파일 저장 성공!')\n",
    "    \n",
    "db.close()"
   ]
  },
  {
   "cell_type": "code",
   "execution_count": null,
   "id": "6e7d1ffc",
   "metadata": {},
   "outputs": [],
   "source": []
  }
 ],
 "metadata": {
  "kernelspec": {
   "display_name": "Python 3 (ipykernel)",
   "language": "python",
   "name": "python3"
  },
  "language_info": {
   "codemirror_mode": {
    "name": "ipython",
    "version": 3
   },
   "file_extension": ".py",
   "mimetype": "text/x-python",
   "name": "python",
   "nbconvert_exporter": "python",
   "pygments_lexer": "ipython3",
   "version": "3.9.13"
  }
 },
 "nbformat": 4,
 "nbformat_minor": 5
}
